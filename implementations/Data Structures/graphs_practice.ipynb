{
 "cells": [
  {
   "cell_type": "code",
   "execution_count": 3,
   "id": "8b9c797b",
   "metadata": {},
   "outputs": [
    {
     "data": {
      "text/plain": [
       "[[0, 1], [0, 2], [1, 3], [1, 4], [2, 5], [2, 6], [3, 7], [4, 7]]"
      ]
     },
     "execution_count": 3,
     "metadata": {},
     "output_type": "execute_result"
    }
   ],
   "source": [
    "# Array of edges (directed graph) [start, end]\n",
    "# Each edge is a list of two integers\n",
    "\n",
    "n = 8\n",
    "\n",
    "edges = [\n",
    "    [0, 1],\n",
    "    [0, 2],\n",
    "    [1, 3],\n",
    "    [1, 4],\n",
    "    [2, 5],\n",
    "    [2, 6],\n",
    "    [3, 7],\n",
    "    [4, 7]]\n",
    "\n",
    "edges\n"
   ]
  },
  {
   "cell_type": "code",
   "execution_count": null,
   "id": "fe8d29aa",
   "metadata": {},
   "outputs": [],
   "source": []
  },
  {
   "cell_type": "code",
   "execution_count": 6,
   "id": "2b085ed2",
   "metadata": {},
   "outputs": [
    {
     "data": {
      "text/plain": [
       "[[0, 1, 1, 0, 0, 0, 0, 0],\n",
       " [0, 0, 0, 1, 1, 0, 0, 0],\n",
       " [0, 0, 0, 0, 0, 1, 1, 0],\n",
       " [0, 0, 0, 0, 0, 0, 0, 1],\n",
       " [0, 0, 0, 0, 0, 0, 0, 1],\n",
       " [0, 0, 0, 0, 0, 0, 0, 0],\n",
       " [0, 0, 0, 0, 0, 0, 0, 0],\n",
       " [0, 0, 0, 0, 0, 0, 0, 0]]"
      ]
     },
     "execution_count": 6,
     "metadata": {},
     "output_type": "execute_result"
    }
   ],
   "source": [
    "# Convert the array of edges --> to an adjacency matrix\n",
    "# Adjacency matrix is a 2D array of size n x n\n",
    "\n",
    "M = []\n",
    "\n",
    "for i in range(n):\n",
    "    M.append([0] * n)\n",
    "\n",
    "for u, v in edges:\n",
    "    M[u][v] = 1\n",
    "M"
   ]
  },
  {
   "cell_type": "code",
   "execution_count": 7,
   "id": "f06dd6a4",
   "metadata": {},
   "outputs": [
    {
     "data": {
      "text/plain": [
       "defaultdict(list, {0: [1, 2], 1: [3, 4], 2: [5, 6], 3: [7], 4: [7]})"
      ]
     },
     "execution_count": 7,
     "metadata": {},
     "output_type": "execute_result"
    }
   ],
   "source": [
    "# Converting a an array of edges to an adjacency list\n",
    "# Adjacency list is a 2D array of size n x n\n",
    "\n",
    "from collections import defaultdict # defaultdict is a dictionary that returns a default value for a non-existent key\n",
    "\n",
    "D = defaultdict(list) # Create a default dictionary with list as the default value\n",
    "for u, v in edges:\n",
    "    D[u].append(v) # Append the end node to the start node's list\n",
    "\n",
    "D"
   ]
  }
 ],
 "metadata": {
  "kernelspec": {
   "display_name": "Python 3",
   "language": "python",
   "name": "python3"
  },
  "language_info": {
   "codemirror_mode": {
    "name": "ipython",
    "version": 3
   },
   "file_extension": ".py",
   "mimetype": "text/x-python",
   "name": "python",
   "nbconvert_exporter": "python",
   "pygments_lexer": "ipython3",
   "version": "3.13.2"
  }
 },
 "nbformat": 4,
 "nbformat_minor": 5
}
